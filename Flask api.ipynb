{
 "cells": [
  {
   "cell_type": "code",
   "execution_count": 13,
   "metadata": {},
   "outputs": [],
   "source": [
    "from flask import Flask,request,make_response,jsonify\n",
    "from ptt_crawler import PTT_Crawler\n",
    "\n",
    "app = Flask('flask-api')\n",
    "@app.route('/')\n",
    "def hello_world():\n",
    "    message = {'message' : 'hello world'}\n",
    "    return jsonify(message)\n",
    "@app.route('/postPTT',methods = ['GET','POST'])\n",
    "def run_Crawler():\n",
    "    if request.method == 'GET':\n",
    "        crawler = PTT_Crawler(board = 'Gossiping',page = 1)\n",
    "    elif request.method == 'POST':\n",
    "        board = request.get_json().get('board','Gossiping')\n",
    "        page = request.get_json().get('page',1)\n",
    "        crawler = PTT_Crawler(board = board,page = page)\n",
    "    res = crawler.run()\n",
    "    return jsonify(res)\n",
    "\n",
    "#if __name__ == '__main__':\n",
    "    #app.run(port=8000)"
   ]
  },
  {
   "cell_type": "code",
   "execution_count": 14,
   "metadata": {
    "scrolled": true
   },
   "outputs": [
    {
     "name": "stdout",
     "output_type": "stream",
     "text": [
      "{'message': 'hello world'}\n",
      "=========================\n",
      "[{'content': '我只是來曬貓的(｡･ω･｡)\\n以下我鵝子的口吻～～\\n\\n\\n嗨(=ﾟωﾟ)ﾉ大家好，我是KuLi\\n是剛滿四個月的開朗活潑獅子男\\n出生在台南 生長在台南', 'date': 'Thu Jan  4 12:41:27 2018', 'author': 'alisa1112 (依宸兒)', 'title': '[心得/閃光] 來曬個貓'}, {'content': '#標題應為 [問題/OO]，發文完請再一次確認標題格式無誤。\\n#發文之後請務必回應熱心板友的回文或推文，這是基本禮貌。\\n#發文表示您已讀過置底板規，一旦發生違反板規之情事，同意可能受到板規處罰。\\n#請用[CTRL+K]刪除這些預設文字。\\n------------------------------------------------------------------------\\n流浪小貓被車撞，\\n開放性骨折，\\n在高雄中興動物醫治，\\n醫藥費目前為一萬七，\\n已募到一萬二，\\n希望愛心人士能幫忙。\\n\\n錢不會過到我的手，\\n詳細資訊可站內信給我，\\n我再請朋友跟您聯絡，\\n謝謝您。', 'date': 'Thu Jan  4 12:43:49 2018', 'author': 'ethelya (ethelyen)', 'title': '[問題] 有人願意捐款救小貓嗎？'}, {'content': '有人的貓比我家的還壞嗎?\\n1.最晚是4點半叫我起床，最早是2點半，如此已經三年了\\n2.如果我不起床就製造噪音。\\nA踩馬桶水箱蓋，發出聲響\\nB腳踩托鞋，咬著啪啪啪拍地\\nC咬衛生紙塑膠袋，發出聲響或拖出衛生紙。\\n3.如果我再不起床，當天就不在沙盆大便，會在浴室地板,浴缸或陽台大便，給我好看。\\n4.看到我就吵著要吃，不管幾次，有時吃到吐了，還是吵，反正我坐著看電視，她就在碗\\n前喵喵叫。\\n5.無聊就去逛樓梯間，一個早上最多可出去三次，自己去自己回，但要我開門。\\n回家要進門時就喵一聲或拉鐵門製造音響。\\n貓有心機，會報復，我肯定。\\n心好累....', 'date': 'Thu Jan  4 13:26:53 2018', 'author': 'gueifu (gueifu)', 'title': '[心得]'}, {'content': '小黑的小孩小豬豬即將滿月了', 'date': 'Thu Jan  4 14:00:26 2018', 'author': 'SEREN1TY (@Johannesburg)', 'title': '[心得/奶貓] 小黑的小豬豬'}, {'content': '自從天冷之後 我們家笨笨只要睡覺就會自動鑽進來棉被取暖\\n 覺得很Q可是又很怕翻身壓到XD\\n\\n大家也來分享一下取暖照吧～', 'date': 'Thu Jan  4 14:02:22 2018', 'author': 'j830430 (j830430)', 'title': '[心得/閃光] 擠進棉被一起睡'}, {'content': '因為1/14要出國，1/18回台\\n希望可以徵到台中的貓友寄宿\\n\\n貓咪狀況\\n男大貓：7歲，已結紮，親貓親人的公關貓\\n女小貓：1歲，已結紮，親貓微怕生\\n\\n寄宿時間：1/13晚上-1/18下午\\n希望能徵到台中的貓友幫忙照顧、飼料、貓砂、貓砂盆我可以提供\\n\\n費用和其他細節我們站內信討論哦！\\n（貓旅館有點太貴...QQ）\\n\\n--', 'date': 'Thu Jan  4 14:06:45 2018', 'author': 'hyde396 (ELisahsiao)', 'title': '[徵求] 台中貓咪寄宿'}, {'content': '遺失地點:捷運後山埤站2號出口附近(偏信義區)\\n\\n貓咪花色及特徵:灰色虎斑貓，穿白襪(白腳)，肉肉的，個性膽小\\n\\n貓咪性別:男\\n\\n貓咪名字:笨蛋\\n\\n是否結紮:是\\n\\n有無項圈(款式):有紅白相間項圈，上有紫色吊牌，吊牌上寫有\"笨蛋\"\\n\\n相片(必須提供):', 'date': 'Thu Jan  4 14:19:38 2018', 'author': 'm31566 (sky)', 'title': '[協尋/台北市] 灰色虎斑貓(捷運後山埤站)'}, {'content': '貓咪所在地:新北-板橋\\n\\n聯絡人稱呼:窘窘\\n\\n連絡:站內信 / 郵件:', 'date': 'Thu Jan  4 14:21:59 2018', 'author': 'vicchiao (小玉)', 'title': '[認養/新北] 板橋-漂亮米克斯找鏟屎'}, {'content': '想湊4000免運  買多會有折扣 目前知道一包會比官網便宜5元\\n自己大約買2000元  如果週日徵不到就流標自己買～\\n\\n物品名稱:心僕 商業生食\\n\\n尺寸大小:100g/一包 另外有300g 500g的包裝\\n\\n\\n商品描述:', 'date': 'Thu Jan  4 14:22:36 2018', 'author': 'boku840309 (garyiscoming)', 'title': '[交易/合購]  心僕生食-高雄三民/左營'}, {'content': '', 'date': 'Wed Jul 18 01:09:50 2012', 'author': 'crazybaby (  小金(Kim))', 'title': '[公告] 全台24小時急診醫院一覽表2012版'}, {'content': '', 'date': 'Mon Oct 10 18:34:03 2016', 'author': 'crazybaby (  小金(Kim))', 'title': '[公告] 貓板發文須知與板規(修)'}, {'content': '@本文改編自前任板主群與幾位板友文章，請撿到浪貓的新手務必詳細閱讀後再發問。\\n@歡迎板友來信提供問與答，問答請盡量簡潔，方便新手快速學習。\\n\\n*****************************************************************************', 'date': 'Mon Jan  9 22:41:07 2017', 'author': 'crazybaby (  小金(Kim))', 'title': '[公告] 給救援浪貓與養貓新手--快速學習指南(新)'}, {'content': '遺失地點:新北市新莊區西盛街344巷\\n\\n貓咪花色及特徵:橘貓條紋\\n\\n貓咪性別:母\\n\\n貓咪名字:雞腿\\n\\n是否結紮:否\\n\\n有無項圈(款式):無\\n\\n相片(必須提供):', 'date': 'Sun Nov 26 16:11:50 2017', 'author': 'poki08957 (孤島)', 'title': '[協尋/新北市] 新北市新莊區西盛街344巷'}, {'content': '我只是來曬貓的(｡･ω･｡)\\n以下我鵝子的口吻～～\\n\\n\\n嗨(=ﾟωﾟ)ﾉ大家好，我是KuLi\\n是剛滿四個月的開朗活潑獅子男\\n出生在台南 生長在台南', 'date': 'Thu Jan  4 12:41:27 2018', 'author': 'alisa1112 (依宸兒)', 'title': '[心得/閃光] 來曬個貓'}, {'content': '#標題應為 [問題/OO]，發文完請再一次確認標題格式無誤。\\n#發文之後請務必回應熱心板友的回文或推文，這是基本禮貌。\\n#發文表示您已讀過置底板規，一旦發生違反板規之情事，同意可能受到板規處罰。\\n#請用[CTRL+K]刪除這些預設文字。\\n------------------------------------------------------------------------\\n流浪小貓被車撞，\\n開放性骨折，\\n在高雄中興動物醫治，\\n醫藥費目前為一萬七，\\n已募到一萬二，\\n希望愛心人士能幫忙。\\n\\n錢不會過到我的手，\\n詳細資訊可站內信給我，\\n我再請朋友跟您聯絡，\\n謝謝您。', 'date': 'Thu Jan  4 12:43:49 2018', 'author': 'ethelya (ethelyen)', 'title': '[問題] 有人願意捐款救小貓嗎？'}, {'content': '有人的貓比我家的還壞嗎?\\n1.最晚是4點半叫我起床，最早是2點半，如此已經三年了\\n2.如果我不起床就製造噪音。\\nA踩馬桶水箱蓋，發出聲響\\nB腳踩托鞋，咬著啪啪啪拍地\\nC咬衛生紙塑膠袋，發出聲響或拖出衛生紙。\\n3.如果我再不起床，當天就不在沙盆大便，會在浴室地板,浴缸或陽台大便，給我好看。\\n4.看到我就吵著要吃，不管幾次，有時吃到吐了，還是吵，反正我坐著看電視，她就在碗\\n前喵喵叫。\\n5.無聊就去逛樓梯間，一個早上最多可出去三次，自己去自己回，但要我開門。\\n回家要進門時就喵一聲或拉鐵門製造音響。\\n貓有心機，會報復，我肯定。\\n心好累....', 'date': 'Thu Jan  4 13:26:53 2018', 'author': 'gueifu (gueifu)', 'title': '[心得]'}, {'content': '小黑的小孩小豬豬即將滿月了', 'date': 'Thu Jan  4 14:00:26 2018', 'author': 'SEREN1TY (@Johannesburg)', 'title': '[心得/奶貓] 小黑的小豬豬'}, {'content': '自從天冷之後 我們家笨笨只要睡覺就會自動鑽進來棉被取暖\\n 覺得很Q可是又很怕翻身壓到XD\\n\\n大家也來分享一下取暖照吧～', 'date': 'Thu Jan  4 14:02:22 2018', 'author': 'j830430 (j830430)', 'title': '[心得/閃光] 擠進棉被一起睡'}, {'content': '因為1/14要出國，1/18回台\\n希望可以徵到台中的貓友寄宿\\n\\n貓咪狀況\\n男大貓：7歲，已結紮，親貓親人的公關貓\\n女小貓：1歲，已結紮，親貓微怕生\\n\\n寄宿時間：1/13晚上-1/18下午\\n希望能徵到台中的貓友幫忙照顧、飼料、貓砂、貓砂盆我可以提供\\n\\n費用和其他細節我們站內信討論哦！\\n（貓旅館有點太貴...QQ）\\n\\n--', 'date': 'Thu Jan  4 14:06:45 2018', 'author': 'hyde396 (ELisahsiao)', 'title': '[徵求] 台中貓咪寄宿'}, {'content': '遺失地點:捷運後山埤站2號出口附近(偏信義區)\\n\\n貓咪花色及特徵:灰色虎斑貓，穿白襪(白腳)，肉肉的，個性膽小\\n\\n貓咪性別:男\\n\\n貓咪名字:笨蛋\\n\\n是否結紮:是\\n\\n有無項圈(款式):有紅白相間項圈，上有紫色吊牌，吊牌上寫有\"笨蛋\"\\n\\n相片(必須提供):', 'date': 'Thu Jan  4 14:19:38 2018', 'author': 'm31566 (sky)', 'title': '[協尋/台北市] 灰色虎斑貓(捷運後山埤站)'}, {'content': '貓咪所在地:新北-板橋\\n\\n聯絡人稱呼:窘窘\\n\\n連絡:站內信 / 郵件:', 'date': 'Thu Jan  4 14:21:59 2018', 'author': 'vicchiao (小玉)', 'title': '[認養/新北] 板橋-漂亮米克斯找鏟屎'}, {'content': '想湊4000免運  買多會有折扣 目前知道一包會比官網便宜5元\\n自己大約買2000元  如果週日徵不到就流標自己買～\\n\\n物品名稱:心僕 商業生食\\n\\n尺寸大小:100g/一包 另外有300g 500g的包裝\\n\\n\\n商品描述:', 'date': 'Thu Jan  4 14:22:36 2018', 'author': 'boku840309 (garyiscoming)', 'title': '[交易/合購]  心僕生食-高雄三民/左營'}, {'content': '', 'date': 'Wed Jul 18 01:09:50 2012', 'author': 'crazybaby (  小金(Kim))', 'title': '[公告] 全台24小時急診醫院一覽表2012版'}, {'content': '', 'date': 'Mon Oct 10 18:34:03 2016', 'author': 'crazybaby (  小金(Kim))', 'title': '[公告] 貓板發文須知與板規(修)'}, {'content': '@本文改編自前任板主群與幾位板友文章，請撿到浪貓的新手務必詳細閱讀後再發問。\\n@歡迎板友來信提供問與答，問答請盡量簡潔，方便新手快速學習。\\n\\n*****************************************************************************', 'date': 'Mon Jan  9 22:41:07 2017', 'author': 'crazybaby (  小金(Kim))', 'title': '[公告] 給救援浪貓與養貓新手--快速學習指南(新)'}, {'content': '遺失地點:新北市新莊區西盛街344巷\\n\\n貓咪花色及特徵:橘貓條紋\\n\\n貓咪性別:母\\n\\n貓咪名字:雞腿\\n\\n是否結紮:否\\n\\n有無項圈(款式):無\\n\\n相片(必須提供):', 'date': 'Sun Nov 26 16:11:50 2017', 'author': 'poki08957 (孤島)', 'title': '[協尋/新北市] 新北市新莊區西盛街344巷'}]\n"
     ]
    }
   ],
   "source": [
    "import json\n",
    "\n",
    "resp = app.test_client().get('/')\n",
    "print(json.loads(resp.data.decode()))\n",
    "print('=========================')\n",
    "resp = app.test_client().post(\n",
    "    '/postPTT',\n",
    "    data = json.dumps({'board':'cat','page':2}),\n",
    "    content_type = 'application/json'\n",
    ")\n",
    "print(json.loads(resp.data.decode()))"
   ]
  }
 ],
 "metadata": {
  "kernelspec": {
   "display_name": "Python 3",
   "language": "python",
   "name": "python3"
  },
  "language_info": {
   "codemirror_mode": {
    "name": "ipython",
    "version": 3
   },
   "file_extension": ".py",
   "mimetype": "text/x-python",
   "name": "python",
   "nbconvert_exporter": "python",
   "pygments_lexer": "ipython3",
   "version": "3.5.2"
  }
 },
 "nbformat": 4,
 "nbformat_minor": 2
}
